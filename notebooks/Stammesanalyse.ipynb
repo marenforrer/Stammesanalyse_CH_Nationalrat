{
 "cells": [
  {
   "cell_type": "markdown",
   "metadata": {},
   "source": [
    "# Stammesanalyse im Schweizerischen Nationalrat"
   ]
  },
  {
   "cell_type": "markdown",
   "metadata": {},
   "source": [
    "## Einführung\n",
    "\n",
    "Im Rahmen ihrer Master Thesis \"Stammesanalyse im Schweizerischecn Nationalrat\" an der HSUL, untersucht Maren Forrer die Bildung von Stämmen im schweizerischen Nationalrat.  "
   ]
  },
  {
   "cell_type": "markdown",
   "metadata": {},
   "source": [
    "## Graphen\n",
    "\n",
    "* Der erste [Beispielgraph](https://shorturl.at/kK156) zur Ansicht von Beispielsachen"
   ]
  }
 ],
 "metadata": {
  "kernelspec": {
   "display_name": "base",
   "language": "python",
   "name": "python3"
  },
  "language_info": {
   "codemirror_mode": {
    "name": "ipython",
    "version": 3
   },
   "file_extension": ".py",
   "mimetype": "text/x-python",
   "name": "python",
   "nbconvert_exporter": "python",
   "pygments_lexer": "ipython3",
   "version": "3.11.5"
  }
 },
 "nbformat": 4,
 "nbformat_minor": 2
}
